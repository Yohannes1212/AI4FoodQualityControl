{
 "cells": [
  {
   "cell_type": "code",
   "execution_count": 5,
   "id": "1027305f-c97a-4256-9ada-92c8e3b01198",
   "metadata": {},
   "outputs": [],
   "source": [
    "import pandas as pd"
   ]
  },
  {
   "cell_type": "code",
   "execution_count": 8,
   "id": "35b36ad7-bbe8-40f2-9055-79118fcb31d5",
   "metadata": {},
   "outputs": [],
   "source": [
    "\n",
    "all_data=pd.read_csv('MMMatrix_bakery_data_encoded.csv')\n",
    "#all_data=pd.read_csv('capped_data.csv')"
   ]
  },
  {
   "cell_type": "code",
   "execution_count": 9,
   "id": "11831926-4ad4-4856-895b-70496924a140",
   "metadata": {},
   "outputs": [],
   "source": [
    "# Prepare features (X) and target (y)\n",
    "# For product type classification\n",
    "X = all_data.iloc[:, 4:] # Features\n",
    "y = all_data['Product_Type']  # Change this to `storage_condition` for storage classification"
   ]
  },
  {
   "cell_type": "code",
   "execution_count": null,
   "id": "b96a3a7e-2573-4ce9-9467-e6bd8fd5825f",
   "metadata": {},
   "outputs": [],
   "source": [
    "# Prepare features (X) and target (y)\n",
    "# For storage condition classification\n",
    "# drop the columns that are not needed\n",
    "#X = all_data.iloc[:, 4:] # Features\n",
    "X = all_data.drop(columns=['Product_Type','Replicate','Replica','storage_1','storage_2','storage_3']) # Drop the storage condition column\n",
    "y = all_data[['storage_1', 'storage_2', 'storage_3']].idxmax(axis=1).str[-1].astype(int)  # Change this to `storage_condition` for storage classification"
   ]
  },
  {
   "cell_type": "code",
   "execution_count": null,
   "id": "ea7b9c01-0273-4695-9c6c-bc912368bcd6",
   "metadata": {},
   "outputs": [],
   "source": [
    "#KNN"
   ]
  },
  {
   "cell_type": "code",
   "execution_count": 10,
   "id": "6455a077-a9c5-4106-9bc7-3debc50df7a1",
   "metadata": {},
   "outputs": [
    {
     "name": "stdout",
     "output_type": "stream",
     "text": [
      "Accuracy: 1.0\n",
      "Classification Report:\n",
      "               precision    recall  f1-score   support\n",
      "\n",
      "           0       1.00      1.00      1.00         5\n",
      "           1       1.00      1.00      1.00         7\n",
      "\n",
      "    accuracy                           1.00        12\n",
      "   macro avg       1.00      1.00      1.00        12\n",
      "weighted avg       1.00      1.00      1.00        12\n",
      "\n"
     ]
    }
   ],
   "source": [
    "from sklearn.model_selection import train_test_split\n",
    "from sklearn.preprocessing import StandardScaler\n",
    "from sklearn.neighbors import KNeighborsClassifier\n",
    "from sklearn.metrics import accuracy_score, classification_report\n",
    "\n",
    "# Prepare features (X) and target (y)\n",
    "#X = all_data[['frequency', 'gain', 'phase', 'storage_1', 'storage_2', 'storage_3']]\n",
    "#y = all_data['product_type']  # Use 'storage_condition' for storage classification\n",
    "\n",
    "\n",
    "# Split data into training and testing sets\n",
    "X_train, X_test, y_train, y_test = train_test_split(X, y, test_size=0.2, random_state=42)\n",
    "\n",
    "# Scale the features\n",
    "scaler = StandardScaler()\n",
    "X_train_scaled = scaler.fit_transform(X_train)\n",
    "X_test_scaled = scaler.transform(X_test)\n",
    "\n",
    "# Train the KNN classifier\n",
    "knn = KNeighborsClassifier(n_neighbors=5)  # You can change `n_neighbors` as needed\n",
    "knn.fit(X_train_scaled, y_train)\n",
    "\n",
    "# Make predictions\n",
    "y_pred = knn.predict(X_test_scaled)\n",
    "\n",
    "# Evaluate the model\n",
    "print(\"Accuracy:\", accuracy_score(y_test, y_pred))\n",
    "print(\"Classification Report:\\n\", classification_report(y_test, y_pred))\n"
   ]
  },
  {
   "cell_type": "code",
   "execution_count": null,
   "id": "f12f0d1e-d559-43ba-a86f-6483a9aa0769",
   "metadata": {},
   "outputs": [],
   "source": []
  }
 ],
 "metadata": {
  "kernelspec": {
   "display_name": "Python 3 (ipykernel)",
   "language": "python",
   "name": "python3"
  },
  "language_info": {
   "codemirror_mode": {
    "name": "ipython",
    "version": 3
   },
   "file_extension": ".py",
   "mimetype": "text/x-python",
   "name": "python",
   "nbconvert_exporter": "python",
   "pygments_lexer": "ipython3",
   "version": "3.9.20"
  }
 },
 "nbformat": 4,
 "nbformat_minor": 5
}
